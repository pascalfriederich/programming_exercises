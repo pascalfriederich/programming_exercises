{
  "nbformat": 4,
  "nbformat_minor": 0,
  "metadata": {
    "colab": {
      "name": "exercise04_lock_in_amp.ipynb",
      "provenance": [],
      "include_colab_link": true
    },
    "kernelspec": {
      "name": "python3",
      "display_name": "Python 3"
    },
    "language_info": {
      "name": "python"
    }
  },
  "cells": [
    {
      "cell_type": "markdown",
      "metadata": {
        "id": "view-in-github",
        "colab_type": "text"
      },
      "source": [
        "<a href=\"https://colab.research.google.com/github/pascalfriederich/programming_exercises/blob/main/exercise04_lock_in_amp.ipynb\" target=\"_parent\"><img src=\"https://colab.research.google.com/assets/colab-badge.svg\" alt=\"Open In Colab\"/></a>"
      ]
    },
    {
      "cell_type": "code",
      "execution_count": 12,
      "metadata": {
        "id": "ybqa67_vRdX6"
      },
      "outputs": [],
      "source": [
        "import numpy as np\n",
        "import scipy\n",
        "import matplotlib.pyplot as plt\n",
        "from math import cos, sin, pi\n",
        "from scipy.fftpack import rfft, irfft, fftfreq, fft, ifft"
      ]
    },
    {
      "cell_type": "code",
      "source": [
        "timestep = 1e-4\n",
        "max_time = 5.0\n",
        "num_steps = int(round(max_time/timestep))\n",
        "times = np.linspace(0, max_time, num_steps)\n",
        "phase = 0\n",
        "\n",
        "frequency_ref = 50.0\n",
        "# make a sine wave with frequecy \"frequency_ref\": Remember that a sine is f(t) = sin(2*pi*freq*t + phase)\n",
        "signal_ref = sin(2*pi*frequency_ref*times)"
      ],
      "metadata": {
        "id": "MpqlpummRi-e",
        "outputId": "fb42f30a-d7b9-4721-8dee-e8d5d36a995d",
        "colab": {
          "base_uri": "https://localhost:8080/",
          "height": 200
        }
      },
      "execution_count": 13,
      "outputs": [
        {
          "output_type": "error",
          "ename": "TypeError",
          "evalue": "ignored",
          "traceback": [
            "\u001b[0;31m---------------------------------------------------------------------------\u001b[0m",
            "\u001b[0;31mTypeError\u001b[0m                                 Traceback (most recent call last)",
            "\u001b[0;32m<ipython-input-13-ffd9e06c3a18>\u001b[0m in \u001b[0;36m<module>\u001b[0;34m()\u001b[0m\n\u001b[1;32m      7\u001b[0m \u001b[0mfrequency_ref\u001b[0m \u001b[0;34m=\u001b[0m \u001b[0;36m50.0\u001b[0m\u001b[0;34m\u001b[0m\u001b[0;34m\u001b[0m\u001b[0m\n\u001b[1;32m      8\u001b[0m \u001b[0;31m# make a sine wave with frequecy \"frequency_ref\": Remember that a sine is f(t) = sin(2*pi*freq*t + phase)\u001b[0m\u001b[0;34m\u001b[0m\u001b[0;34m\u001b[0m\u001b[0;34m\u001b[0m\u001b[0m\n\u001b[0;32m----> 9\u001b[0;31m \u001b[0msignal_ref\u001b[0m \u001b[0;34m=\u001b[0m \u001b[0msin\u001b[0m\u001b[0;34m(\u001b[0m\u001b[0;36m2\u001b[0m\u001b[0;34m*\u001b[0m\u001b[0mpi\u001b[0m\u001b[0;34m*\u001b[0m\u001b[0mfrequency_ref\u001b[0m\u001b[0;34m*\u001b[0m\u001b[0mtimes\u001b[0m\u001b[0;34m)\u001b[0m\u001b[0;34m\u001b[0m\u001b[0;34m\u001b[0m\u001b[0m\n\u001b[0m",
            "\u001b[0;31mTypeError\u001b[0m: only size-1 arrays can be converted to Python scalars"
          ]
        }
      ]
    },
    {
      "cell_type": "code",
      "source": [
        "plt.figure(figsize = (20, 3))\n",
        "# plot the signal_ref as a function of time, and show time interval 0 to 1\n",
        "plt.show()"
      ],
      "metadata": {
        "id": "MTDuLDRCSNq-",
        "outputId": "2d3a401a-84d3-438b-b1d8-dbace927cad9",
        "colab": {
          "base_uri": "https://localhost:8080/",
          "height": 34
        }
      },
      "execution_count": 10,
      "outputs": [
        {
          "output_type": "display_data",
          "data": {
            "text/plain": [
              "<Figure size 1440x216 with 0 Axes>"
            ]
          },
          "metadata": {}
        }
      ]
    },
    {
      "cell_type": "code",
      "source": [
        "# Fourier transform functions\n",
        "signal_ref_spectrum = rfft(signal_ref)\n",
        "frequencies = fftfreq(signal_ref.size, d=times[1]-times[0])/2.0\n",
        "order = np.argsort(frequencies)"
      ],
      "metadata": {
        "id": "k9i5TDmQSRjU"
      },
      "execution_count": null,
      "outputs": []
    },
    {
      "cell_type": "code",
      "source": [
        "max_freq_to_plot = 100.0\n",
        "\n",
        "# plot the \"signal_ref_spectrum\" over the \"frequencies\" with \"order\", from -10 to \"max_freq_to_plot\""
      ],
      "metadata": {
        "id": "w7bqXwTySrHe"
      },
      "execution_count": null,
      "outputs": []
    },
    {
      "cell_type": "code",
      "source": [
        "phase = 0.2*np.pi\n",
        "noise_level = 20.0\n",
        "# make a sine wave with frequecy \"frequency_ref\" and phase shift \"phase\"\n",
        "signal_new = None # Todo\n",
        "# make a list of noise values of the same size as the noise signal, multiplied with \"noise_level\"\n",
        "noise = None # Todo\n",
        "signal_noise = signal_new + noise"
      ],
      "metadata": {
        "id": "0ZnXcFZBS87O"
      },
      "execution_count": null,
      "outputs": []
    },
    {
      "cell_type": "code",
      "source": [
        "# plot the noisy signal over time, again from 0 to 1"
      ],
      "metadata": {
        "id": "jFSJbAFxTSKv"
      },
      "execution_count": null,
      "outputs": []
    },
    {
      "cell_type": "code",
      "source": [
        "# Fourier transform functions\n",
        "signal_noise_spectrum = rfft(signal_noise)\n",
        "frequencies_noise = fftfreq(signal_noise_spectrum.size, d=times[1]-times[0])/2.0\n",
        "order_noise = np.argsort(frequencies_noise)"
      ],
      "metadata": {
        "id": "qXysOQsjgfMZ"
      },
      "execution_count": null,
      "outputs": []
    },
    {
      "cell_type": "code",
      "source": [
        "max_freq_to_plot = 100.0\n",
        "\n",
        "# plot the \"signal_noise_spectrum\" over the \"frequencies_noise\" with \"order_noise\", from -10 to \"max_freq_to_plot\""
      ],
      "metadata": {
        "id": "qy-MFpYegoDU"
      },
      "execution_count": null,
      "outputs": []
    },
    {
      "cell_type": "code",
      "source": [
        "# Lock in amplifier\n",
        "\n",
        "# make a new reference signal, shifted by pi/2 compared to the first reference signal\n",
        "signal_ref_shifted = None # Todo\n",
        "\n",
        "# plot the shifted signal, just to check\n",
        "plt.figure(figsize = (20, 3))\n",
        "# Todo\n",
        "plt.show()"
      ],
      "metadata": {
        "id": "EUELAN8CTTvH"
      },
      "execution_count": null,
      "outputs": []
    },
    {
      "cell_type": "code",
      "source": [
        "integration_time = 3.0\n",
        "n_steps_to_average = int(round(integration_time / timestep))\n",
        "print(n_steps_to_average)\n",
        "\n",
        "# multiply \"signal_ref\" with \"signal_noise\", over the first \"n_steps_to_average\" timesteps\n",
        "signal_multiplied1 = None # Todo\n",
        "# same for \"signal_ref_shifted\"\n",
        "signal_multiplied2 = None # Todo\n",
        "\n",
        "# do the fourrier transform of signal_multiplied1\n",
        "signal_multiplied1_spectrum = None # Todo\n",
        "frequencies = None # Todo\n",
        "order = None # Todo\n",
        "\n",
        "# multiplied signal plot\n",
        "plt.figure(figsize = (20, 3))\n",
        "# Todo\n",
        "plt.show()\n",
        "\n",
        "# frequency spectrum plot\n",
        "max_freq_to_plot = 150.0\n",
        "\n",
        "plt.figure()\n",
        "# Todo\n",
        "plt.show()\n",
        "\n",
        "\n",
        "theta = np.arctan2(np.mean(signal_multiplied2), np.mean(signal_multiplied1))\n",
        "print(theta)"
      ],
      "metadata": {
        "id": "EUW74If9U-Rz"
      },
      "execution_count": null,
      "outputs": []
    },
    {
      "cell_type": "code",
      "source": [
        "integration_times = np.linspace(0.01, 5.0, 1000)\n",
        "signals_mean1 = []\n",
        "signals_mean2 = []\n",
        "thetas = []\n",
        "for idx, integration_time in enumerate(integration_times):\n",
        "    n_steps_to_average = int(round(integration_time / 1e-4))\n",
        "    signal_multiplied1 = signal_ref[:n_steps_to_average] * signal_noise[:n_steps_to_average]\n",
        "    signal_multiplied_mean1 = 1/float(n_steps_to_average)*np.sum(signal_multiplied1)\n",
        "    signals_mean1.append(signal_multiplied_mean1)\n",
        "    \n",
        "    signal_multiplied2 = signal_ref_shifted[:n_steps_to_average] * signal_noise[:n_steps_to_average]\n",
        "    signal_multiplied_mean2 = 1/float(n_steps_to_average)*np.sum(signal_multiplied2)\n",
        "    signals_mean2.append(signal_multiplied_mean2)\n",
        "    \n",
        "    theta = np.arctan2(signal_multiplied_mean2, signal_multiplied_mean1)\n",
        "    thetas.append(theta/np.pi)\n",
        "\n",
        "print(\"Phase from lock-amplifier: %.2f pi\"%(np.mean(thetas[-20:])))"
      ],
      "metadata": {
        "id": "JOaNN3C7TvOo"
      },
      "execution_count": null,
      "outputs": []
    },
    {
      "cell_type": "code",
      "source": [
        "fig, axes = plt.subplots(2, 1, sharex=True, figsize=(15, 5))\n",
        "axes[0].plot(integration_times, signals_mean1, \"k-\")\n",
        "axes[0].plot(integration_times, signals_mean2, \"r-\")\n",
        "axes[0].plot([integration_times[0], integration_times[-1]], [0.0, 0.0], \"k.-\")\n",
        "axes[1].plot(integration_times, thetas, \"k-\")\n",
        "axes[1].plot([integration_times[0], integration_times[-1]], [0.0, 0.0], \"k.-\")\n",
        "axes[0].set_xlabel(\"\")\n",
        "axes[1].set_xlabel(\"Integration length [s]\")\n",
        "axes[0].set_ylabel(\"Integrated signal [a.u.]\")\n",
        "axes[1].set_ylabel(\"Phase [pi]\")\n",
        "plt.subplots_adjust(hspace=0)\n",
        "plt.show()"
      ],
      "metadata": {
        "id": "mplle0iiUT3w"
      },
      "execution_count": null,
      "outputs": []
    },
    {
      "cell_type": "code",
      "source": [
        ""
      ],
      "metadata": {
        "id": "w45hrFZGUYzp"
      },
      "execution_count": null,
      "outputs": []
    }
  ]
}